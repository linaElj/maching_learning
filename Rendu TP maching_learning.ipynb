{
 "cells": [
  {
   "cell_type": "markdown",
   "metadata": {},
   "source": [
    "# Machine Learning\n",
    "\n",
    "### Devoir - Big Data et analyse de données"
   ]
  },
  {
   "cell_type": "raw",
   "metadata": {},
   "source": [
    "Présenter par : Lina EL JERROUDI / Marine BRIOUDE / PAUL RIMBAUD "
   ]
  },
  {
   "cell_type": "code",
   "execution_count": 270,
   "metadata": {},
   "outputs": [
    {
     "name": "stdout",
     "output_type": "stream",
     "text": [
      "Requirement already satisfied: xlrd in d:\\anaconda\\lib\\site-packages (1.2.0)\n"
     ]
    }
   ],
   "source": [
    "!pip install xlrd"
   ]
  },
  {
   "cell_type": "code",
   "execution_count": 271,
   "metadata": {},
   "outputs": [
    {
     "name": "stdout",
     "output_type": "stream",
     "text": [
      "openpyxl                           3.0.0    \n",
      "xlrd                               1.2.0    \n",
      "xlwings                            0.15.10  \n",
      "xlwt                               1.3.0    \n"
     ]
    }
   ],
   "source": [
    "!pip list | grep xl"
   ]
  },
  {
   "cell_type": "code",
   "execution_count": 272,
   "metadata": {},
   "outputs": [
    {
     "data": {
      "application/javascript": [
       "var kernel = IPython.notebook.kernel;\n",
       "var body = document.body,  \n",
       "    attribs = body.attributes;\n",
       "var command = \"theNotebook = \" + \"'\"+attribs['data-notebook-name'].value+\"'\";\n",
       "kernel.execute(command);\n"
      ],
      "text/plain": [
       "<IPython.core.display.Javascript object>"
      ]
     },
     "metadata": {},
     "output_type": "display_data"
    }
   ],
   "source": [
    "%%javascript\n",
    "var kernel = IPython.notebook.kernel;\n",
    "var body = document.body,  \n",
    "    attribs = body.attributes;\n",
    "var command = \"theNotebook = \" + \"'\"+attribs['data-notebook-name'].value+\"'\";\n",
    "kernel.execute(command);"
   ]
  },
  {
   "cell_type": "code",
   "execution_count": 273,
   "metadata": {},
   "outputs": [],
   "source": [
    "# Packages génériques\n",
    "import sys\n",
    "import os\n",
    "import importlib\n",
    "import numpy as np  # Calcul numérique\n",
    "import pandas as pd  # Données au format tabulaire, transformation et analyse de données\n",
    "\n",
    "# Graphiques\n",
    "import matplotlib.pyplot as plt\n",
    "import seaborn as sns\n",
    "import matplotlib as mpl  # pour afficher le numéro de version logicielle"
   ]
  },
  {
   "cell_type": "code",
   "execution_count": 274,
   "metadata": {},
   "outputs": [],
   "source": [
    "# Vérification d'un niveau de version\n",
    "assert sys.version[:3] >= \"3.7\"      # Python 3.7\n",
    "assert np.__version__[:4] >= \"1.16\"  # NumPy 1.16\n",
    "assert pd.__version__[:4] >= \"0.23\"  # Pandas 0.23"
   ]
  },
  {
   "cell_type": "code",
   "execution_count": 275,
   "metadata": {},
   "outputs": [
    {
     "name": "stdout",
     "output_type": "stream",
     "text": [
      "[Python] : version  3.7.4 (default, Aug  9 2019, 18:34:13) [MSC v.1915 64 bit (AMD64)]\n",
      "\n",
      "[Numpy] : version  1.16.5\n",
      "[Pandas] : version  0.25.1\n",
      "[Matplotlib] : version  3.1.1\n",
      "[Seaborn] : version  0.9.0\n"
     ]
    }
   ],
   "source": [
    "print(\"[Python] : version \", sys.version)\n",
    "print()\n",
    "print(\"[Numpy] : version \", np.__version__)\n",
    "print(\"[Pandas] : version \", pd.__version__)\n",
    "print(\"[Matplotlib] : version \", mpl.__version__)\n",
    "print(\"[Seaborn] : version \", sns.__version__)"
   ]
  },
  {
   "cell_type": "code",
   "execution_count": 276,
   "metadata": {},
   "outputs": [],
   "source": [
    "### Configuration des DataFrames Pandas"
   ]
  },
  {
   "cell_type": "code",
   "execution_count": 277,
   "metadata": {},
   "outputs": [],
   "source": [
    "# Pour maximiser les options d'affichage du contenu des DF Pandas\n",
    "pd.set_option(\"display.max_rows\", 1000)\n",
    "pd.set_option(\"display.max_columns\", 1000)\n",
    "pd.set_option(\"display.max_colwidth\", 1000)\n",
    "pd.set_option('display.width', 1000)"
   ]
  },
  {
   "cell_type": "code",
   "execution_count": 278,
   "metadata": {},
   "outputs": [],
   "source": [
    "#Liste des colonnes de référence à transformer pour uniformiser le nommage des attributs du DF définissant la matrice des variables\n",
    "DICT_REF_COLS = {\"APP_Libelle_etablissement\": \"lb_etab\",\n",
    "                \"SIRET\": \"siret\",\n",
    "                \"Adresse_2_UA\": \"adresse\",\n",
    "                \"Code_postal\": \"cd_postal\",\n",
    "                \"Libelle_commune\": \"lb_commune\",\n",
    "                \"Date_inspection\" :\"annee\",\n",
    "                \"APP_Libelle_activite_etablissement\": \"lb_activite_etab\",\n",
    "                \"Synthese_eval_sanit\" : \"synthese\",\n",
    "                \"filtre\" : \"job\",\n",
    "                \"ods_type_activite\" : \"type_activite\"\n",
    "               }\n",
    "\n",
    "# Dictionnaire des types de données des colonnes de référence\n",
    "DICT_TYPE_REF_COLS = {\"lb_etab\": str,   # attribut \"Code département\"\n",
    "                      \"siret\": str,  # attribut \"circonscription\"\n",
    "                      \"adresse\": str,   # attribut \"Inscrits\"\n",
    "                      \"cd_postal\": int,   # attribut \"Votants\"\n",
    "                      \"lb_commune\": str,\n",
    "                      \"annee\": int, # attribut \"Exprimés\"\n",
    "                      \"lb_activite_etab\": str,\n",
    "                      \"synthese\": str, # attribut \"Exprimés\"\n",
    "                      \"job\": str,\n",
    "                      \"type_activite\": str\n",
    "                     }  # nouvel attribut portant sur le tour des élections"
   ]
  },
  {
   "cell_type": "code",
   "execution_count": 279,
   "metadata": {},
   "outputs": [],
   "source": [
    "## 1.1 Chargement des données dans un DataFrame Pandas"
   ]
  },
  {
   "cell_type": "code",
   "execution_count": 306,
   "metadata": {},
   "outputs": [],
   "source": [
    "# Initialisation du DF Pandas global de recueil des résultats \n",
    "pdf_data = pd.DataFrame()\n",
    "FILENAME = 'data/data_final_t.csv'"
   ]
  },
  {
   "cell_type": "code",
   "execution_count": 307,
   "metadata": {},
   "outputs": [],
   "source": [
    "pdf_data = pd.read_csv(FILENAME,sep = ';')"
   ]
  },
  {
   "cell_type": "code",
   "execution_count": 308,
   "metadata": {},
   "outputs": [
    {
     "data": {
      "text/plain": [
       "Index(['APP_Libelle_etablissement', 'SIRET', 'Adresse_2_UA', 'Code_postal', 'Libelle_commune', 'Numero_inspection', 'Date_inspection', 'APP_Libelle_activite_etablissement', 'Synthese_eval_sanit', 'Agrement', 'geores', 'filtre', 'ods_type_activite'], dtype='object')"
      ]
     },
     "execution_count": 308,
     "metadata": {},
     "output_type": "execute_result"
    }
   ],
   "source": [
    "# Liste des colonnes du DataFrame pdf_data\n",
    "pdf_data.columns"
   ]
  },
  {
   "cell_type": "code",
   "execution_count": 309,
   "metadata": {},
   "outputs": [
    {
     "data": {
      "text/html": [
       "<div>\n",
       "<style scoped>\n",
       "    .dataframe tbody tr th:only-of-type {\n",
       "        vertical-align: middle;\n",
       "    }\n",
       "\n",
       "    .dataframe tbody tr th {\n",
       "        vertical-align: top;\n",
       "    }\n",
       "\n",
       "    .dataframe thead th {\n",
       "        text-align: right;\n",
       "    }\n",
       "</style>\n",
       "<table border=\"1\" class=\"dataframe\">\n",
       "  <thead>\n",
       "    <tr style=\"text-align: right;\">\n",
       "      <th></th>\n",
       "      <th>APP_Libelle_etablissement</th>\n",
       "      <th>SIRET</th>\n",
       "      <th>Adresse_2_UA</th>\n",
       "      <th>Code_postal</th>\n",
       "      <th>Libelle_commune</th>\n",
       "      <th>Numero_inspection</th>\n",
       "      <th>Date_inspection</th>\n",
       "      <th>APP_Libelle_activite_etablissement</th>\n",
       "      <th>Synthese_eval_sanit</th>\n",
       "      <th>Agrement</th>\n",
       "      <th>geores</th>\n",
       "      <th>filtre</th>\n",
       "      <th>ods_type_activite</th>\n",
       "    </tr>\n",
       "  </thead>\n",
       "  <tbody>\n",
       "    <tr>\n",
       "      <td>0</td>\n",
       "      <td>SARL AUBERGE DU DOUBLE SIX</td>\n",
       "      <td>3,0121E+13</td>\n",
       "      <td>24 PL GENERAL LECLERC</td>\n",
       "      <td>80220.0</td>\n",
       "      <td>GAMACHES</td>\n",
       "      <td>16793484.0</td>\n",
       "      <td>25/04/2023 02:00</td>\n",
       "      <td>Restaurant</td>\n",
       "      <td>Satisfaisant</td>\n",
       "      <td>NaN</td>\n",
       "      <td>49.985274, 1.561386</td>\n",
       "      <td>Restaurant</td>\n",
       "      <td>Restaurant</td>\n",
       "    </tr>\n",
       "    <tr>\n",
       "      <td>1</td>\n",
       "      <td>MONSIEUR PHILIPPE MARIOTTE</td>\n",
       "      <td>3,10849E+13</td>\n",
       "      <td>286 RUE DU CENTRE</td>\n",
       "      <td>74260.0</td>\n",
       "      <td>LES GETS</td>\n",
       "      <td>16740394.0</td>\n",
       "      <td>23/02/2023 01:00</td>\n",
       "      <td>Restaurant</td>\n",
       "      <td>Satisfaisant</td>\n",
       "      <td>NaN</td>\n",
       "      <td>46.15861, 6.677963</td>\n",
       "      <td>Restaurant</td>\n",
       "      <td>Restaurant</td>\n",
       "    </tr>\n",
       "    <tr>\n",
       "      <td>2</td>\n",
       "      <td>NATURALIA (NATURALIA FRANCE)</td>\n",
       "      <td>3,02475E+13</td>\n",
       "      <td>36 RUE EUGENE EICHENBERGER</td>\n",
       "      <td>92800.0</td>\n",
       "      <td>PUTEAUX</td>\n",
       "      <td>16611978.0</td>\n",
       "      <td>04/10/2022 02:00</td>\n",
       "      <td>Alimentation générale</td>\n",
       "      <td>Satisfaisant</td>\n",
       "      <td>NaN</td>\n",
       "      <td>48.881317, 2.23746</td>\n",
       "      <td>Alimentation générale</td>\n",
       "      <td>Alimentation générale</td>\n",
       "    </tr>\n",
       "    <tr>\n",
       "      <td>3</td>\n",
       "      <td>SUPER-U (COLOMBELLES DISTRIBUTION)</td>\n",
       "      <td>3,01224E+13</td>\n",
       "      <td>RD 403</td>\n",
       "      <td>14460.0</td>\n",
       "      <td>COLOMBELLES</td>\n",
       "      <td>16787460.0</td>\n",
       "      <td>20/04/2023 02:00</td>\n",
       "      <td>Rayon boucherie-charcuterie</td>\n",
       "      <td>Très satisfaisant</td>\n",
       "      <td>NaN</td>\n",
       "      <td>NaN</td>\n",
       "      <td>Rayon boucherie-charcuterie</td>\n",
       "      <td>Rayon boucherie-charcuterie</td>\n",
       "    </tr>\n",
       "    <tr>\n",
       "      <td>4</td>\n",
       "      <td>FRANPRIX (SOC DISTRIBUTION SODISCO SARL)</td>\n",
       "      <td>3,34271E+13</td>\n",
       "      <td>4, PLACE DU MOUSTIER</td>\n",
       "      <td>92210.0</td>\n",
       "      <td>SAINT CLOUD</td>\n",
       "      <td>16748988.0</td>\n",
       "      <td>08/03/2023 01:00</td>\n",
       "      <td>Alimentation générale</td>\n",
       "      <td>A améliorer</td>\n",
       "      <td>NaN</td>\n",
       "      <td>48.844091, 2.219818</td>\n",
       "      <td>Alimentation générale</td>\n",
       "      <td>Alimentation générale</td>\n",
       "    </tr>\n",
       "  </tbody>\n",
       "</table>\n",
       "</div>"
      ],
      "text/plain": [
       "                  APP_Libelle_etablissement        SIRET                Adresse_2_UA  Code_postal Libelle_commune  Numero_inspection   Date_inspection APP_Libelle_activite_etablissement Synthese_eval_sanit Agrement               geores                       filtre            ods_type_activite\n",
       "0                SARL AUBERGE DU DOUBLE SIX   3,0121E+13       24 PL GENERAL LECLERC      80220.0        GAMACHES         16793484.0  25/04/2023 02:00                         Restaurant        Satisfaisant      NaN  49.985274, 1.561386                   Restaurant                   Restaurant\n",
       "1                MONSIEUR PHILIPPE MARIOTTE  3,10849E+13           286 RUE DU CENTRE      74260.0        LES GETS         16740394.0  23/02/2023 01:00                         Restaurant        Satisfaisant      NaN   46.15861, 6.677963                   Restaurant                   Restaurant\n",
       "2              NATURALIA (NATURALIA FRANCE)  3,02475E+13  36 RUE EUGENE EICHENBERGER      92800.0         PUTEAUX         16611978.0  04/10/2022 02:00              Alimentation générale        Satisfaisant      NaN   48.881317, 2.23746        Alimentation générale        Alimentation générale\n",
       "3        SUPER-U (COLOMBELLES DISTRIBUTION)  3,01224E+13                      RD 403      14460.0     COLOMBELLES         16787460.0  20/04/2023 02:00        Rayon boucherie-charcuterie   Très satisfaisant      NaN                  NaN  Rayon boucherie-charcuterie  Rayon boucherie-charcuterie\n",
       "4  FRANPRIX (SOC DISTRIBUTION SODISCO SARL)  3,34271E+13        4, PLACE DU MOUSTIER      92210.0     SAINT CLOUD         16748988.0  08/03/2023 01:00              Alimentation générale         A améliorer      NaN  48.844091, 2.219818        Alimentation générale        Alimentation générale"
      ]
     },
     "execution_count": 309,
     "metadata": {},
     "output_type": "execute_result"
    }
   ],
   "source": [
    "# Affichage d'un extrait des premières lignes\n",
    "pdf_data.head()"
   ]
  },
  {
   "cell_type": "code",
   "execution_count": 310,
   "metadata": {},
   "outputs": [
    {
     "data": {
      "text/plain": [
       "APP_Libelle_etablissement              object\n",
       "SIRET                                  object\n",
       "Adresse_2_UA                           object\n",
       "Code_postal                           float64\n",
       "Libelle_commune                        object\n",
       "Numero_inspection                     float64\n",
       "Date_inspection                        object\n",
       "APP_Libelle_activite_etablissement     object\n",
       "Synthese_eval_sanit                    object\n",
       "Agrement                               object\n",
       "geores                                 object\n",
       "filtre                                 object\n",
       "ods_type_activite                      object\n",
       "dtype: object"
      ]
     },
     "execution_count": 310,
     "metadata": {},
     "output_type": "execute_result"
    }
   ],
   "source": [
    "pdf_data.dtypes"
   ]
  },
  {
   "cell_type": "code",
   "execution_count": 311,
   "metadata": {},
   "outputs": [],
   "source": [
    "# Supprimer les colonnes\n",
    "pdf_data = pdf_data.drop(columns=['geores', 'Agrement','Numero_inspection'])"
   ]
  },
  {
   "cell_type": "code",
   "execution_count": 312,
   "metadata": {},
   "outputs": [],
   "source": [
    "# Convertir la colonne 'Date_inspection' en objet DateTime en utilisant le nouveau format\n",
    "pdf_data['Date_inspection'] = pd.to_datetime(pdf_data['Date_inspection'], format='%d/%m/%Y %H:%M', errors='coerce')\n",
    "\n",
    "# Extraire l'année dans une nouvelle colonne 'Year'\n",
    "pdf_data['Year'] = pdf_data['Date_inspection'].dt.year\n"
   ]
  },
  {
   "cell_type": "code",
   "execution_count": 313,
   "metadata": {},
   "outputs": [],
   "source": [
    "# Convertir la colonne 'Date_inspection' en objet DateTime sans prendre en compte le fuseau horaire\n",
    "pdf_data['Date_inspection'] = pd.to_datetime(pdf_data['Date_inspection'], format='%Y-%m-%dT%H:%M:%S', errors='coerce',utc=True)\n",
    "\n",
    "# Convertir la colonne 'Date_inspection' en objet DateTime en prenant en compte le fuseau horaire\n",
    "pdf_data['Date_inspection'] = pd.to_datetime(pdf_data['Date_inspection'], format='%Y-%m-%dT%H:%M:%S%z')\n",
    "\n",
    "# Extraire l'année dans une nouvelle colonne 'Year'\n",
    "pdf_data['Year'] = pdf_data['Date_inspection'].dt.year\n",
    "\n"
   ]
  },
  {
   "cell_type": "code",
   "execution_count": 314,
   "metadata": {},
   "outputs": [
    {
     "data": {
      "text/html": [
       "<div>\n",
       "<style scoped>\n",
       "    .dataframe tbody tr th:only-of-type {\n",
       "        vertical-align: middle;\n",
       "    }\n",
       "\n",
       "    .dataframe tbody tr th {\n",
       "        vertical-align: top;\n",
       "    }\n",
       "\n",
       "    .dataframe thead th {\n",
       "        text-align: right;\n",
       "    }\n",
       "</style>\n",
       "<table border=\"1\" class=\"dataframe\">\n",
       "  <thead>\n",
       "    <tr style=\"text-align: right;\">\n",
       "      <th></th>\n",
       "      <th>APP_Libelle_etablissement</th>\n",
       "      <th>SIRET</th>\n",
       "      <th>Adresse_2_UA</th>\n",
       "      <th>Code_postal</th>\n",
       "      <th>Libelle_commune</th>\n",
       "      <th>Date_inspection</th>\n",
       "      <th>APP_Libelle_activite_etablissement</th>\n",
       "      <th>Synthese_eval_sanit</th>\n",
       "      <th>filtre</th>\n",
       "      <th>ods_type_activite</th>\n",
       "      <th>Year</th>\n",
       "    </tr>\n",
       "  </thead>\n",
       "  <tbody>\n",
       "    <tr>\n",
       "      <td>0</td>\n",
       "      <td>SARL AUBERGE DU DOUBLE SIX</td>\n",
       "      <td>3,0121E+13</td>\n",
       "      <td>24 PL GENERAL LECLERC</td>\n",
       "      <td>80220.0</td>\n",
       "      <td>GAMACHES</td>\n",
       "      <td>2023-04-25 02:00:00+00:00</td>\n",
       "      <td>Restaurant</td>\n",
       "      <td>Satisfaisant</td>\n",
       "      <td>Restaurant</td>\n",
       "      <td>Restaurant</td>\n",
       "      <td>2023</td>\n",
       "    </tr>\n",
       "    <tr>\n",
       "      <td>1</td>\n",
       "      <td>MONSIEUR PHILIPPE MARIOTTE</td>\n",
       "      <td>3,10849E+13</td>\n",
       "      <td>286 RUE DU CENTRE</td>\n",
       "      <td>74260.0</td>\n",
       "      <td>LES GETS</td>\n",
       "      <td>2023-02-23 01:00:00+00:00</td>\n",
       "      <td>Restaurant</td>\n",
       "      <td>Satisfaisant</td>\n",
       "      <td>Restaurant</td>\n",
       "      <td>Restaurant</td>\n",
       "      <td>2023</td>\n",
       "    </tr>\n",
       "    <tr>\n",
       "      <td>2</td>\n",
       "      <td>NATURALIA (NATURALIA FRANCE)</td>\n",
       "      <td>3,02475E+13</td>\n",
       "      <td>36 RUE EUGENE EICHENBERGER</td>\n",
       "      <td>92800.0</td>\n",
       "      <td>PUTEAUX</td>\n",
       "      <td>2022-10-04 02:00:00+00:00</td>\n",
       "      <td>Alimentation générale</td>\n",
       "      <td>Satisfaisant</td>\n",
       "      <td>Alimentation générale</td>\n",
       "      <td>Alimentation générale</td>\n",
       "      <td>2022</td>\n",
       "    </tr>\n",
       "    <tr>\n",
       "      <td>3</td>\n",
       "      <td>SUPER-U (COLOMBELLES DISTRIBUTION)</td>\n",
       "      <td>3,01224E+13</td>\n",
       "      <td>RD 403</td>\n",
       "      <td>14460.0</td>\n",
       "      <td>COLOMBELLES</td>\n",
       "      <td>2023-04-20 02:00:00+00:00</td>\n",
       "      <td>Rayon boucherie-charcuterie</td>\n",
       "      <td>Très satisfaisant</td>\n",
       "      <td>Rayon boucherie-charcuterie</td>\n",
       "      <td>Rayon boucherie-charcuterie</td>\n",
       "      <td>2023</td>\n",
       "    </tr>\n",
       "    <tr>\n",
       "      <td>4</td>\n",
       "      <td>FRANPRIX (SOC DISTRIBUTION SODISCO SARL)</td>\n",
       "      <td>3,34271E+13</td>\n",
       "      <td>4, PLACE DU MOUSTIER</td>\n",
       "      <td>92210.0</td>\n",
       "      <td>SAINT CLOUD</td>\n",
       "      <td>2023-03-08 01:00:00+00:00</td>\n",
       "      <td>Alimentation générale</td>\n",
       "      <td>A améliorer</td>\n",
       "      <td>Alimentation générale</td>\n",
       "      <td>Alimentation générale</td>\n",
       "      <td>2023</td>\n",
       "    </tr>\n",
       "    <tr>\n",
       "      <td>...</td>\n",
       "      <td>...</td>\n",
       "      <td>...</td>\n",
       "      <td>...</td>\n",
       "      <td>...</td>\n",
       "      <td>...</td>\n",
       "      <td>...</td>\n",
       "      <td>...</td>\n",
       "      <td>...</td>\n",
       "      <td>...</td>\n",
       "      <td>...</td>\n",
       "      <td>...</td>\n",
       "    </tr>\n",
       "    <tr>\n",
       "      <td>32715</td>\n",
       "      <td>EARL TOUT LE BON</td>\n",
       "      <td>9,045E+13</td>\n",
       "      <td>LE PLATE</td>\n",
       "      <td>97424.0</td>\n",
       "      <td>Saint-Leu</td>\n",
       "      <td>2023-03-30 02:00:00+00:00</td>\n",
       "      <td>Chaîne d'abattage de volaille/lagomorphe/petit gibier</td>\n",
       "      <td>Satisfaisant</td>\n",
       "      <td>Abattoirs</td>\n",
       "      <td>NaN</td>\n",
       "      <td>2023</td>\n",
       "    </tr>\n",
       "    <tr>\n",
       "      <td>32716</td>\n",
       "      <td>LA POKETERIE</td>\n",
       "      <td>8,44751E+13</td>\n",
       "      <td>3 RUE DE PROVENCE</td>\n",
       "      <td>75009.0</td>\n",
       "      <td>Paris 9e  Arrondissement</td>\n",
       "      <td>2022-11-24 01:00:00+00:00</td>\n",
       "      <td>Restaurant</td>\n",
       "      <td>Satisfaisant</td>\n",
       "      <td>NaN</td>\n",
       "      <td>NaN</td>\n",
       "      <td>2022</td>\n",
       "    </tr>\n",
       "    <tr>\n",
       "      <td>32717</td>\n",
       "      <td>SAS GUY COQUILLAT</td>\n",
       "      <td>3,88539E+13</td>\n",
       "      <td>Z A Les Blaches Gombert</td>\n",
       "      <td>4160.0</td>\n",
       "      <td>Château-Arnoux-Saint-Auban</td>\n",
       "      <td>2023-04-17 02:00:00+00:00</td>\n",
       "      <td>Transformation de produits carnés</td>\n",
       "      <td>Satisfaisant</td>\n",
       "      <td>Viandes et produits carnés</td>\n",
       "      <td>NaN</td>\n",
       "      <td>2023</td>\n",
       "    </tr>\n",
       "    <tr>\n",
       "      <td>32718</td>\n",
       "      <td>LIVESTATION DIY</td>\n",
       "      <td>7,51699E+13</td>\n",
       "      <td>LIVESTATION DIY</td>\n",
       "      <td>69007.0</td>\n",
       "      <td>Lyon 7e  Arrondissement</td>\n",
       "      <td>2023-06-16 02:00:00+00:00</td>\n",
       "      <td>Restaurant</td>\n",
       "      <td>Satisfaisant</td>\n",
       "      <td>Restaurant</td>\n",
       "      <td>NaN</td>\n",
       "      <td>2023</td>\n",
       "    </tr>\n",
       "    <tr>\n",
       "      <td>32719</td>\n",
       "      <td>EARL TOUT LE BON</td>\n",
       "      <td>9,045E+13</td>\n",
       "      <td>LE PLATE</td>\n",
       "      <td>97424.0</td>\n",
       "      <td>Saint-Leu</td>\n",
       "      <td>2023-03-30 02:00:00+00:00</td>\n",
       "      <td>Producteur fermier</td>\n",
       "      <td>Satisfaisant</td>\n",
       "      <td>Producteur fermier</td>\n",
       "      <td>NaN</td>\n",
       "      <td>2023</td>\n",
       "    </tr>\n",
       "  </tbody>\n",
       "</table>\n",
       "<p>32720 rows × 11 columns</p>\n",
       "</div>"
      ],
      "text/plain": [
       "                      APP_Libelle_etablissement        SIRET                Adresse_2_UA  Code_postal             Libelle_commune           Date_inspection                     APP_Libelle_activite_etablissement Synthese_eval_sanit                       filtre            ods_type_activite  Year\n",
       "0                    SARL AUBERGE DU DOUBLE SIX   3,0121E+13       24 PL GENERAL LECLERC      80220.0                    GAMACHES 2023-04-25 02:00:00+00:00                                             Restaurant        Satisfaisant                   Restaurant                   Restaurant  2023\n",
       "1                    MONSIEUR PHILIPPE MARIOTTE  3,10849E+13           286 RUE DU CENTRE      74260.0                    LES GETS 2023-02-23 01:00:00+00:00                                             Restaurant        Satisfaisant                   Restaurant                   Restaurant  2023\n",
       "2                  NATURALIA (NATURALIA FRANCE)  3,02475E+13  36 RUE EUGENE EICHENBERGER      92800.0                     PUTEAUX 2022-10-04 02:00:00+00:00                                  Alimentation générale        Satisfaisant        Alimentation générale        Alimentation générale  2022\n",
       "3            SUPER-U (COLOMBELLES DISTRIBUTION)  3,01224E+13                      RD 403      14460.0                 COLOMBELLES 2023-04-20 02:00:00+00:00                            Rayon boucherie-charcuterie   Très satisfaisant  Rayon boucherie-charcuterie  Rayon boucherie-charcuterie  2023\n",
       "4      FRANPRIX (SOC DISTRIBUTION SODISCO SARL)  3,34271E+13        4, PLACE DU MOUSTIER      92210.0                 SAINT CLOUD 2023-03-08 01:00:00+00:00                                  Alimentation générale         A améliorer        Alimentation générale        Alimentation générale  2023\n",
       "...                                         ...          ...                         ...          ...                         ...                       ...                                                    ...                 ...                          ...                          ...   ...\n",
       "32715                          EARL TOUT LE BON    9,045E+13                    LE PLATE      97424.0                   Saint-Leu 2023-03-30 02:00:00+00:00  Chaîne d'abattage de volaille/lagomorphe/petit gibier        Satisfaisant                    Abattoirs                          NaN  2023\n",
       "32716                              LA POKETERIE  8,44751E+13           3 RUE DE PROVENCE      75009.0    Paris 9e  Arrondissement 2022-11-24 01:00:00+00:00                                             Restaurant        Satisfaisant                          NaN                          NaN  2022\n",
       "32717                         SAS GUY COQUILLAT  3,88539E+13     Z A Les Blaches Gombert       4160.0  Château-Arnoux-Saint-Auban 2023-04-17 02:00:00+00:00                      Transformation de produits carnés        Satisfaisant   Viandes et produits carnés                          NaN  2023\n",
       "32718                           LIVESTATION DIY  7,51699E+13             LIVESTATION DIY      69007.0     Lyon 7e  Arrondissement 2023-06-16 02:00:00+00:00                                             Restaurant        Satisfaisant                   Restaurant                          NaN  2023\n",
       "32719                          EARL TOUT LE BON    9,045E+13                    LE PLATE      97424.0                   Saint-Leu 2023-03-30 02:00:00+00:00                                     Producteur fermier        Satisfaisant           Producteur fermier                          NaN  2023\n",
       "\n",
       "[32720 rows x 11 columns]"
      ]
     },
     "execution_count": 314,
     "metadata": {},
     "output_type": "execute_result"
    }
   ],
   "source": [
    "pdf_data"
   ]
  },
  {
   "cell_type": "code",
   "execution_count": 315,
   "metadata": {},
   "outputs": [],
   "source": [
    "# Supprimer la colonne \"job\"\n",
    "pdf_data = pdf_data.drop(columns=['Date_inspection'])"
   ]
  },
  {
   "cell_type": "code",
   "execution_count": 316,
   "metadata": {},
   "outputs": [
    {
     "data": {
      "text/html": [
       "<div>\n",
       "<style scoped>\n",
       "    .dataframe tbody tr th:only-of-type {\n",
       "        vertical-align: middle;\n",
       "    }\n",
       "\n",
       "    .dataframe tbody tr th {\n",
       "        vertical-align: top;\n",
       "    }\n",
       "\n",
       "    .dataframe thead th {\n",
       "        text-align: right;\n",
       "    }\n",
       "</style>\n",
       "<table border=\"1\" class=\"dataframe\">\n",
       "  <thead>\n",
       "    <tr style=\"text-align: right;\">\n",
       "      <th></th>\n",
       "      <th>lb_etab</th>\n",
       "      <th>siret</th>\n",
       "      <th>adresse</th>\n",
       "      <th>cd_postal</th>\n",
       "      <th>lb_commune</th>\n",
       "      <th>lb_activite_etab</th>\n",
       "      <th>synthese</th>\n",
       "      <th>job</th>\n",
       "      <th>type_activite</th>\n",
       "      <th>Year</th>\n",
       "    </tr>\n",
       "  </thead>\n",
       "  <tbody>\n",
       "    <tr>\n",
       "      <td>0</td>\n",
       "      <td>SARL AUBERGE DU DOUBLE SIX</td>\n",
       "      <td>3,0121E+13</td>\n",
       "      <td>24 PL GENERAL LECLERC</td>\n",
       "      <td>80220.0</td>\n",
       "      <td>GAMACHES</td>\n",
       "      <td>Restaurant</td>\n",
       "      <td>Satisfaisant</td>\n",
       "      <td>Restaurant</td>\n",
       "      <td>Restaurant</td>\n",
       "      <td>2023</td>\n",
       "    </tr>\n",
       "    <tr>\n",
       "      <td>1</td>\n",
       "      <td>MONSIEUR PHILIPPE MARIOTTE</td>\n",
       "      <td>3,10849E+13</td>\n",
       "      <td>286 RUE DU CENTRE</td>\n",
       "      <td>74260.0</td>\n",
       "      <td>LES GETS</td>\n",
       "      <td>Restaurant</td>\n",
       "      <td>Satisfaisant</td>\n",
       "      <td>Restaurant</td>\n",
       "      <td>Restaurant</td>\n",
       "      <td>2023</td>\n",
       "    </tr>\n",
       "    <tr>\n",
       "      <td>2</td>\n",
       "      <td>NATURALIA (NATURALIA FRANCE)</td>\n",
       "      <td>3,02475E+13</td>\n",
       "      <td>36 RUE EUGENE EICHENBERGER</td>\n",
       "      <td>92800.0</td>\n",
       "      <td>PUTEAUX</td>\n",
       "      <td>Alimentation générale</td>\n",
       "      <td>Satisfaisant</td>\n",
       "      <td>Alimentation générale</td>\n",
       "      <td>Alimentation générale</td>\n",
       "      <td>2022</td>\n",
       "    </tr>\n",
       "    <tr>\n",
       "      <td>3</td>\n",
       "      <td>SUPER-U (COLOMBELLES DISTRIBUTION)</td>\n",
       "      <td>3,01224E+13</td>\n",
       "      <td>RD 403</td>\n",
       "      <td>14460.0</td>\n",
       "      <td>COLOMBELLES</td>\n",
       "      <td>Rayon boucherie-charcuterie</td>\n",
       "      <td>Très satisfaisant</td>\n",
       "      <td>Rayon boucherie-charcuterie</td>\n",
       "      <td>Rayon boucherie-charcuterie</td>\n",
       "      <td>2023</td>\n",
       "    </tr>\n",
       "    <tr>\n",
       "      <td>4</td>\n",
       "      <td>FRANPRIX (SOC DISTRIBUTION SODISCO SARL)</td>\n",
       "      <td>3,34271E+13</td>\n",
       "      <td>4, PLACE DU MOUSTIER</td>\n",
       "      <td>92210.0</td>\n",
       "      <td>SAINT CLOUD</td>\n",
       "      <td>Alimentation générale</td>\n",
       "      <td>A améliorer</td>\n",
       "      <td>Alimentation générale</td>\n",
       "      <td>Alimentation générale</td>\n",
       "      <td>2023</td>\n",
       "    </tr>\n",
       "  </tbody>\n",
       "</table>\n",
       "</div>"
      ],
      "text/plain": [
       "                                    lb_etab        siret                     adresse  cd_postal   lb_commune             lb_activite_etab           synthese                          job                type_activite  Year\n",
       "0                SARL AUBERGE DU DOUBLE SIX   3,0121E+13       24 PL GENERAL LECLERC    80220.0     GAMACHES                   Restaurant       Satisfaisant                   Restaurant                   Restaurant  2023\n",
       "1                MONSIEUR PHILIPPE MARIOTTE  3,10849E+13           286 RUE DU CENTRE    74260.0     LES GETS                   Restaurant       Satisfaisant                   Restaurant                   Restaurant  2023\n",
       "2              NATURALIA (NATURALIA FRANCE)  3,02475E+13  36 RUE EUGENE EICHENBERGER    92800.0      PUTEAUX        Alimentation générale       Satisfaisant        Alimentation générale        Alimentation générale  2022\n",
       "3        SUPER-U (COLOMBELLES DISTRIBUTION)  3,01224E+13                      RD 403    14460.0  COLOMBELLES  Rayon boucherie-charcuterie  Très satisfaisant  Rayon boucherie-charcuterie  Rayon boucherie-charcuterie  2023\n",
       "4  FRANPRIX (SOC DISTRIBUTION SODISCO SARL)  3,34271E+13        4, PLACE DU MOUSTIER    92210.0  SAINT CLOUD        Alimentation générale        A améliorer        Alimentation générale        Alimentation générale  2023"
      ]
     },
     "execution_count": 316,
     "metadata": {},
     "output_type": "execute_result"
    }
   ],
   "source": [
    "# Renommage des colonnes du DF Pandas à partir des valeurs associées aux clés des dictionnaires définis\n",
    "# Renommage des colonnes avec le dictionnaire DICT_REF_COLS\n",
    "pdf_data.rename(columns=DICT_REF_COLS, inplace=True)\n",
    "\n",
    "# Affichage des premières lignes du DataFrame avec les colonnes renommées\n",
    "pdf_data.head()"
   ]
  },
  {
   "cell_type": "code",
   "execution_count": 317,
   "metadata": {},
   "outputs": [
    {
     "data": {
      "text/plain": [
       "lb_etab              object\n",
       "siret                object\n",
       "adresse              object\n",
       "cd_postal           float64\n",
       "lb_commune           object\n",
       "lb_activite_etab     object\n",
       "synthese             object\n",
       "job                  object\n",
       "type_activite        object\n",
       "Year                  int64\n",
       "dtype: object"
      ]
     },
     "execution_count": 317,
     "metadata": {},
     "output_type": "execute_result"
    }
   ],
   "source": [
    "pdf_data.dtypes"
   ]
  },
  {
   "cell_type": "code",
   "execution_count": 318,
   "metadata": {},
   "outputs": [
    {
     "data": {
      "text/html": [
       "<div>\n",
       "<style scoped>\n",
       "    .dataframe tbody tr th:only-of-type {\n",
       "        vertical-align: middle;\n",
       "    }\n",
       "\n",
       "    .dataframe tbody tr th {\n",
       "        vertical-align: top;\n",
       "    }\n",
       "\n",
       "    .dataframe thead th {\n",
       "        text-align: right;\n",
       "    }\n",
       "</style>\n",
       "<table border=\"1\" class=\"dataframe\">\n",
       "  <thead>\n",
       "    <tr style=\"text-align: right;\">\n",
       "      <th></th>\n",
       "      <th>Year</th>\n",
       "      <th>adresse</th>\n",
       "      <th>cd_postal</th>\n",
       "      <th>job</th>\n",
       "      <th>lb_activite_etab</th>\n",
       "      <th>lb_commune</th>\n",
       "      <th>lb_etab</th>\n",
       "      <th>siret</th>\n",
       "      <th>synthese</th>\n",
       "      <th>type_activite</th>\n",
       "    </tr>\n",
       "  </thead>\n",
       "  <tbody>\n",
       "    <tr>\n",
       "      <td>0</td>\n",
       "      <td>2023</td>\n",
       "      <td>24 PL GENERAL LECLERC</td>\n",
       "      <td>80220.0</td>\n",
       "      <td>Restaurant</td>\n",
       "      <td>Restaurant</td>\n",
       "      <td>GAMACHES</td>\n",
       "      <td>SARL AUBERGE DU DOUBLE SIX</td>\n",
       "      <td>3,0121E+13</td>\n",
       "      <td>Satisfaisant</td>\n",
       "      <td>Restaurant</td>\n",
       "    </tr>\n",
       "    <tr>\n",
       "      <td>1</td>\n",
       "      <td>2023</td>\n",
       "      <td>286 RUE DU CENTRE</td>\n",
       "      <td>74260.0</td>\n",
       "      <td>Restaurant</td>\n",
       "      <td>Restaurant</td>\n",
       "      <td>LES GETS</td>\n",
       "      <td>MONSIEUR PHILIPPE MARIOTTE</td>\n",
       "      <td>3,10849E+13</td>\n",
       "      <td>Satisfaisant</td>\n",
       "      <td>Restaurant</td>\n",
       "    </tr>\n",
       "    <tr>\n",
       "      <td>2</td>\n",
       "      <td>2022</td>\n",
       "      <td>36 RUE EUGENE EICHENBERGER</td>\n",
       "      <td>92800.0</td>\n",
       "      <td>Alimentation générale</td>\n",
       "      <td>Alimentation générale</td>\n",
       "      <td>PUTEAUX</td>\n",
       "      <td>NATURALIA (NATURALIA FRANCE)</td>\n",
       "      <td>3,02475E+13</td>\n",
       "      <td>Satisfaisant</td>\n",
       "      <td>Alimentation générale</td>\n",
       "    </tr>\n",
       "    <tr>\n",
       "      <td>3</td>\n",
       "      <td>2023</td>\n",
       "      <td>RD 403</td>\n",
       "      <td>14460.0</td>\n",
       "      <td>Rayon boucherie-charcuterie</td>\n",
       "      <td>Rayon boucherie-charcuterie</td>\n",
       "      <td>COLOMBELLES</td>\n",
       "      <td>SUPER-U (COLOMBELLES DISTRIBUTION)</td>\n",
       "      <td>3,01224E+13</td>\n",
       "      <td>Très satisfaisant</td>\n",
       "      <td>Rayon boucherie-charcuterie</td>\n",
       "    </tr>\n",
       "    <tr>\n",
       "      <td>4</td>\n",
       "      <td>2023</td>\n",
       "      <td>4, PLACE DU MOUSTIER</td>\n",
       "      <td>92210.0</td>\n",
       "      <td>Alimentation générale</td>\n",
       "      <td>Alimentation générale</td>\n",
       "      <td>SAINT CLOUD</td>\n",
       "      <td>FRANPRIX (SOC DISTRIBUTION SODISCO SARL)</td>\n",
       "      <td>3,34271E+13</td>\n",
       "      <td>A améliorer</td>\n",
       "      <td>Alimentation générale</td>\n",
       "    </tr>\n",
       "  </tbody>\n",
       "</table>\n",
       "</div>"
      ],
      "text/plain": [
       "   Year                     adresse  cd_postal                          job             lb_activite_etab   lb_commune                                   lb_etab        siret           synthese                type_activite\n",
       "0  2023       24 PL GENERAL LECLERC    80220.0                   Restaurant                   Restaurant     GAMACHES                SARL AUBERGE DU DOUBLE SIX   3,0121E+13       Satisfaisant                   Restaurant\n",
       "1  2023           286 RUE DU CENTRE    74260.0                   Restaurant                   Restaurant     LES GETS                MONSIEUR PHILIPPE MARIOTTE  3,10849E+13       Satisfaisant                   Restaurant\n",
       "2  2022  36 RUE EUGENE EICHENBERGER    92800.0        Alimentation générale        Alimentation générale      PUTEAUX              NATURALIA (NATURALIA FRANCE)  3,02475E+13       Satisfaisant        Alimentation générale\n",
       "3  2023                      RD 403    14460.0  Rayon boucherie-charcuterie  Rayon boucherie-charcuterie  COLOMBELLES        SUPER-U (COLOMBELLES DISTRIBUTION)  3,01224E+13  Très satisfaisant  Rayon boucherie-charcuterie\n",
       "4  2023        4, PLACE DU MOUSTIER    92210.0        Alimentation générale        Alimentation générale  SAINT CLOUD  FRANPRIX (SOC DISTRIBUTION SODISCO SARL)  3,34271E+13        A améliorer        Alimentation générale"
      ]
     },
     "execution_count": 318,
     "metadata": {},
     "output_type": "execute_result"
    }
   ],
   "source": [
    "# Créer une nouvelle liste d'ordre des colonnes en utilisant les noms renommés\n",
    "nouvel_ordre =['Year']+list(pdf_data.columns.difference(['Year']))\n",
    "\n",
    "# Réorganiser les colonnes dans le DataFrame pdf_data\n",
    "pdf_data = pdf_data.reindex(columns=nouvel_ordre)\n",
    "\n",
    "pdf_data.head(5)\n"
   ]
  },
  {
   "cell_type": "code",
   "execution_count": 319,
   "metadata": {},
   "outputs": [],
   "source": [
    "# convertir le code postal en string et supprimer la partie .0\n",
    "pdf_data['cd_postal'] = pdf_data['cd_postal'].astype(str)\n",
    "pdf_data['cd_postal'] = pdf_data['cd_postal'].str.split('.').str[0]"
   ]
  },
  {
   "cell_type": "code",
   "execution_count": 320,
   "metadata": {},
   "outputs": [],
   "source": [
    "# Définir une fonction pour ajouter un zéro au début des valeurs de 4 chiffres\n",
    "def ajouter_zero(valeur):\n",
    "    if len(valeur) == 4 and valeur.isdigit():\n",
    "        return '0' + valeur\n",
    "    else:\n",
    "        return valeur\n",
    "\n",
    "# Appliquer la fonction à la colonne 'cd_postal'\n",
    "pdf_data['cd_postal'] = pdf_data['cd_postal'].apply(lambda x: ajouter_zero(x))\n"
   ]
  },
  {
   "cell_type": "code",
   "execution_count": 321,
   "metadata": {},
   "outputs": [
    {
     "data": {
      "text/html": [
       "<div>\n",
       "<style scoped>\n",
       "    .dataframe tbody tr th:only-of-type {\n",
       "        vertical-align: middle;\n",
       "    }\n",
       "\n",
       "    .dataframe tbody tr th {\n",
       "        vertical-align: top;\n",
       "    }\n",
       "\n",
       "    .dataframe thead th {\n",
       "        text-align: right;\n",
       "    }\n",
       "</style>\n",
       "<table border=\"1\" class=\"dataframe\">\n",
       "  <thead>\n",
       "    <tr style=\"text-align: right;\">\n",
       "      <th></th>\n",
       "      <th>Year</th>\n",
       "      <th>adresse</th>\n",
       "      <th>cd_postal</th>\n",
       "      <th>job</th>\n",
       "      <th>lb_activite_etab</th>\n",
       "      <th>lb_commune</th>\n",
       "      <th>lb_etab</th>\n",
       "      <th>siret</th>\n",
       "      <th>synthese</th>\n",
       "      <th>type_activite</th>\n",
       "    </tr>\n",
       "  </thead>\n",
       "  <tbody>\n",
       "    <tr>\n",
       "      <td>0</td>\n",
       "      <td>2023</td>\n",
       "      <td>24 PL GENERAL LECLERC</td>\n",
       "      <td>80220</td>\n",
       "      <td>Restaurant</td>\n",
       "      <td>Restaurant</td>\n",
       "      <td>GAMACHES</td>\n",
       "      <td>SARL AUBERGE DU DOUBLE SIX</td>\n",
       "      <td>3,0121E+13</td>\n",
       "      <td>Satisfaisant</td>\n",
       "      <td>Restaurant</td>\n",
       "    </tr>\n",
       "    <tr>\n",
       "      <td>1</td>\n",
       "      <td>2023</td>\n",
       "      <td>286 RUE DU CENTRE</td>\n",
       "      <td>74260</td>\n",
       "      <td>Restaurant</td>\n",
       "      <td>Restaurant</td>\n",
       "      <td>LES GETS</td>\n",
       "      <td>MONSIEUR PHILIPPE MARIOTTE</td>\n",
       "      <td>3,10849E+13</td>\n",
       "      <td>Satisfaisant</td>\n",
       "      <td>Restaurant</td>\n",
       "    </tr>\n",
       "    <tr>\n",
       "      <td>2</td>\n",
       "      <td>2022</td>\n",
       "      <td>36 RUE EUGENE EICHENBERGER</td>\n",
       "      <td>92800</td>\n",
       "      <td>Alimentation générale</td>\n",
       "      <td>Alimentation générale</td>\n",
       "      <td>PUTEAUX</td>\n",
       "      <td>NATURALIA (NATURALIA FRANCE)</td>\n",
       "      <td>3,02475E+13</td>\n",
       "      <td>Satisfaisant</td>\n",
       "      <td>Alimentation générale</td>\n",
       "    </tr>\n",
       "    <tr>\n",
       "      <td>3</td>\n",
       "      <td>2023</td>\n",
       "      <td>RD 403</td>\n",
       "      <td>14460</td>\n",
       "      <td>Rayon boucherie-charcuterie</td>\n",
       "      <td>Rayon boucherie-charcuterie</td>\n",
       "      <td>COLOMBELLES</td>\n",
       "      <td>SUPER-U (COLOMBELLES DISTRIBUTION)</td>\n",
       "      <td>3,01224E+13</td>\n",
       "      <td>Très satisfaisant</td>\n",
       "      <td>Rayon boucherie-charcuterie</td>\n",
       "    </tr>\n",
       "    <tr>\n",
       "      <td>4</td>\n",
       "      <td>2023</td>\n",
       "      <td>4, PLACE DU MOUSTIER</td>\n",
       "      <td>92210</td>\n",
       "      <td>Alimentation générale</td>\n",
       "      <td>Alimentation générale</td>\n",
       "      <td>SAINT CLOUD</td>\n",
       "      <td>FRANPRIX (SOC DISTRIBUTION SODISCO SARL)</td>\n",
       "      <td>3,34271E+13</td>\n",
       "      <td>A améliorer</td>\n",
       "      <td>Alimentation générale</td>\n",
       "    </tr>\n",
       "    <tr>\n",
       "      <td>...</td>\n",
       "      <td>...</td>\n",
       "      <td>...</td>\n",
       "      <td>...</td>\n",
       "      <td>...</td>\n",
       "      <td>...</td>\n",
       "      <td>...</td>\n",
       "      <td>...</td>\n",
       "      <td>...</td>\n",
       "      <td>...</td>\n",
       "      <td>...</td>\n",
       "    </tr>\n",
       "    <tr>\n",
       "      <td>32715</td>\n",
       "      <td>2023</td>\n",
       "      <td>LE PLATE</td>\n",
       "      <td>97424</td>\n",
       "      <td>Abattoirs</td>\n",
       "      <td>Chaîne d'abattage de volaille/lagomorphe/petit gibier</td>\n",
       "      <td>Saint-Leu</td>\n",
       "      <td>EARL TOUT LE BON</td>\n",
       "      <td>9,045E+13</td>\n",
       "      <td>Satisfaisant</td>\n",
       "      <td>NaN</td>\n",
       "    </tr>\n",
       "    <tr>\n",
       "      <td>32716</td>\n",
       "      <td>2022</td>\n",
       "      <td>3 RUE DE PROVENCE</td>\n",
       "      <td>75009</td>\n",
       "      <td>NaN</td>\n",
       "      <td>Restaurant</td>\n",
       "      <td>Paris 9e  Arrondissement</td>\n",
       "      <td>LA POKETERIE</td>\n",
       "      <td>8,44751E+13</td>\n",
       "      <td>Satisfaisant</td>\n",
       "      <td>NaN</td>\n",
       "    </tr>\n",
       "    <tr>\n",
       "      <td>32717</td>\n",
       "      <td>2023</td>\n",
       "      <td>Z A Les Blaches Gombert</td>\n",
       "      <td>04160</td>\n",
       "      <td>Viandes et produits carnés</td>\n",
       "      <td>Transformation de produits carnés</td>\n",
       "      <td>Château-Arnoux-Saint-Auban</td>\n",
       "      <td>SAS GUY COQUILLAT</td>\n",
       "      <td>3,88539E+13</td>\n",
       "      <td>Satisfaisant</td>\n",
       "      <td>NaN</td>\n",
       "    </tr>\n",
       "    <tr>\n",
       "      <td>32718</td>\n",
       "      <td>2023</td>\n",
       "      <td>LIVESTATION DIY</td>\n",
       "      <td>69007</td>\n",
       "      <td>Restaurant</td>\n",
       "      <td>Restaurant</td>\n",
       "      <td>Lyon 7e  Arrondissement</td>\n",
       "      <td>LIVESTATION DIY</td>\n",
       "      <td>7,51699E+13</td>\n",
       "      <td>Satisfaisant</td>\n",
       "      <td>NaN</td>\n",
       "    </tr>\n",
       "    <tr>\n",
       "      <td>32719</td>\n",
       "      <td>2023</td>\n",
       "      <td>LE PLATE</td>\n",
       "      <td>97424</td>\n",
       "      <td>Producteur fermier</td>\n",
       "      <td>Producteur fermier</td>\n",
       "      <td>Saint-Leu</td>\n",
       "      <td>EARL TOUT LE BON</td>\n",
       "      <td>9,045E+13</td>\n",
       "      <td>Satisfaisant</td>\n",
       "      <td>NaN</td>\n",
       "    </tr>\n",
       "  </tbody>\n",
       "</table>\n",
       "<p>32720 rows × 10 columns</p>\n",
       "</div>"
      ],
      "text/plain": [
       "       Year                     adresse cd_postal                          job                                       lb_activite_etab                  lb_commune                                   lb_etab        siret           synthese                type_activite\n",
       "0      2023       24 PL GENERAL LECLERC     80220                   Restaurant                                             Restaurant                    GAMACHES                SARL AUBERGE DU DOUBLE SIX   3,0121E+13       Satisfaisant                   Restaurant\n",
       "1      2023           286 RUE DU CENTRE     74260                   Restaurant                                             Restaurant                    LES GETS                MONSIEUR PHILIPPE MARIOTTE  3,10849E+13       Satisfaisant                   Restaurant\n",
       "2      2022  36 RUE EUGENE EICHENBERGER     92800        Alimentation générale                                  Alimentation générale                     PUTEAUX              NATURALIA (NATURALIA FRANCE)  3,02475E+13       Satisfaisant        Alimentation générale\n",
       "3      2023                      RD 403     14460  Rayon boucherie-charcuterie                            Rayon boucherie-charcuterie                 COLOMBELLES        SUPER-U (COLOMBELLES DISTRIBUTION)  3,01224E+13  Très satisfaisant  Rayon boucherie-charcuterie\n",
       "4      2023        4, PLACE DU MOUSTIER     92210        Alimentation générale                                  Alimentation générale                 SAINT CLOUD  FRANPRIX (SOC DISTRIBUTION SODISCO SARL)  3,34271E+13        A améliorer        Alimentation générale\n",
       "...     ...                         ...       ...                          ...                                                    ...                         ...                                       ...          ...                ...                          ...\n",
       "32715  2023                    LE PLATE     97424                    Abattoirs  Chaîne d'abattage de volaille/lagomorphe/petit gibier                   Saint-Leu                          EARL TOUT LE BON    9,045E+13       Satisfaisant                          NaN\n",
       "32716  2022           3 RUE DE PROVENCE     75009                          NaN                                             Restaurant    Paris 9e  Arrondissement                              LA POKETERIE  8,44751E+13       Satisfaisant                          NaN\n",
       "32717  2023     Z A Les Blaches Gombert     04160   Viandes et produits carnés                      Transformation de produits carnés  Château-Arnoux-Saint-Auban                         SAS GUY COQUILLAT  3,88539E+13       Satisfaisant                          NaN\n",
       "32718  2023             LIVESTATION DIY     69007                   Restaurant                                             Restaurant     Lyon 7e  Arrondissement                           LIVESTATION DIY  7,51699E+13       Satisfaisant                          NaN\n",
       "32719  2023                    LE PLATE     97424           Producteur fermier                                     Producteur fermier                   Saint-Leu                          EARL TOUT LE BON    9,045E+13       Satisfaisant                          NaN\n",
       "\n",
       "[32720 rows x 10 columns]"
      ]
     },
     "execution_count": 321,
     "metadata": {},
     "output_type": "execute_result"
    }
   ],
   "source": [
    "pdf_data"
   ]
  },
  {
   "cell_type": "code",
   "execution_count": 322,
   "metadata": {},
   "outputs": [
    {
     "data": {
      "text/plain": [
       "Year                 int64\n",
       "adresse             object\n",
       "cd_postal           object\n",
       "job                 object\n",
       "lb_activite_etab    object\n",
       "lb_commune          object\n",
       "lb_etab             object\n",
       "siret               object\n",
       "synthese            object\n",
       "type_activite       object\n",
       "dtype: object"
      ]
     },
     "execution_count": 322,
     "metadata": {},
     "output_type": "execute_result"
    }
   ],
   "source": [
    "pdf_data.dtypes"
   ]
  },
  {
   "cell_type": "code",
   "execution_count": 323,
   "metadata": {},
   "outputs": [],
   "source": [
    "# Supprimer toutes les lignes avec des valeurs nulles ou vides\n",
    "pdf_data = pdf_data.dropna()\n",
    "\n",
    "# Réindexer le DataFrame après la suppression\n",
    "pdf_data = pdf_data.reset_index(drop=True)\n"
   ]
  },
  {
   "cell_type": "code",
   "execution_count": 324,
   "metadata": {},
   "outputs": [],
   "source": [
    "import pandas as pd\n",
    "from sklearn.model_selection import train_test_split\n",
    "from sklearn.preprocessing import OneHotEncoder\n",
    "from sklearn.linear_model import LogisticRegression\n",
    "from sklearn.metrics import accuracy_score, classification_report, confusion_matrix\n",
    "\n",
    "# Assurez-vous que 'synthese' est de type catégoriel\n",
    "pdf_data['synthese'] = pdf_data['synthese'].astype('category')"
   ]
  },
  {
   "cell_type": "code",
   "execution_count": 325,
   "metadata": {},
   "outputs": [
    {
     "name": "stdout",
     "output_type": "stream",
     "text": [
      "Précision du modèle : 0.60\n",
      "                   precision    recall  f1-score   support\n",
      "\n",
      "      A améliorer       0.57      0.17      0.27        23\n",
      "     Satisfaisant       0.61      0.91      0.73        47\n",
      "Très satisfaisant       0.56      0.29      0.38        17\n",
      "\n",
      "         accuracy                           0.60        87\n",
      "        macro avg       0.58      0.46      0.46        87\n",
      "     weighted avg       0.59      0.60      0.54        87\n",
      "\n",
      "[[ 4 17  2]\n",
      " [ 2 43  2]\n",
      " [ 1 11  5]]\n"
     ]
    },
    {
     "name": "stderr",
     "output_type": "stream",
     "text": [
      "D:\\anaconda\\lib\\site-packages\\sklearn\\linear_model\\logistic.py:432: FutureWarning: Default solver will be changed to 'lbfgs' in 0.22. Specify a solver to silence this warning.\n",
      "  FutureWarning)\n",
      "D:\\anaconda\\lib\\site-packages\\sklearn\\linear_model\\logistic.py:469: FutureWarning: Default multi_class will be changed to 'auto' in 0.22. Specify the multi_class option to silence this warning.\n",
      "  \"this warning.\", FutureWarning)\n"
     ]
    }
   ],
   "source": [
    "\n",
    "# Sélection des caractéristiques et de la variable cible\n",
    "features = ['job', 'lb_commune', 'Year','lb_activite_etab','type_activite']\n",
    "target = 'synthese'\n",
    "\n",
    "X = pdf_data[features]\n",
    "y = pdf_data[target]\n",
    "\n",
    "# Encodage one-hot des caractéristiques catégorielles\n",
    "encoder = OneHotEncoder(sparse=False, drop='first')\n",
    "X_encoded = encoder.fit_transform(X.select_dtypes(include=['object']))\n",
    "\n",
    "# Divisez les données en ensembles de formation et de test\n",
    "X_train, X_test, y_train, y_test = train_test_split(X_encoded, y, test_size=0.2, random_state=42)\n",
    "\n",
    "# Créez un modèle de régression logistique\n",
    "model = LogisticRegression(max_iter=1000)\n",
    "\n",
    "# Entraînez le modèle\n",
    "model.fit(X_train, y_train)\n",
    "\n",
    "# Prédictions sur l'ensemble de test\n",
    "y_pred = model.predict(X_test)\n",
    "\n",
    "# Évaluez la performance du modèle\n",
    "accuracy = accuracy_score(y_test, y_pred)\n",
    "print(f'Précision du modèle : {accuracy:.2f}')\n",
    "\n",
    "# Affichez d'autres métriques telles que le rapport de classification et la matrice de confusion\n",
    "print(classification_report(y_test, y_pred))\n",
    "print(confusion_matrix(y_test, y_pred))\n"
   ]
  },
  {
   "cell_type": "code",
   "execution_count": 326,
   "metadata": {},
   "outputs": [
    {
     "name": "stdout",
     "output_type": "stream",
     "text": [
      "Précision du modèle : 0.52\n",
      "                             precision    recall  f1-score   support\n",
      "\n",
      "      Alimentation générale       0.00      0.00      0.00         5\n",
      "      Boucherie-Charcuterie       0.00      0.00      0.00         2\n",
      "     Boulangerie-Pâtisserie       0.00      0.00      0.00        29\n",
      "               Poissonnerie       0.00      0.00      0.00         1\n",
      "                    Primeur       0.00      0.00      0.00         1\n",
      "         Producteur fermier       0.00      0.00      0.00         1\n",
      "Rayon boucherie-charcuterie       0.00      0.00      0.00         2\n",
      "                 Restaurant       0.52      1.00      0.68        45\n",
      "    Restauration collective       0.00      0.00      0.00         1\n",
      "\n",
      "                   accuracy                           0.52        87\n",
      "                  macro avg       0.06      0.11      0.08        87\n",
      "               weighted avg       0.27      0.52      0.35        87\n",
      "\n",
      "[[ 0  0  0  0  0  0  0  5  0]\n",
      " [ 0  0  0  0  0  0  0  2  0]\n",
      " [ 0  0  0  0  0  0  0 29  0]\n",
      " [ 0  0  0  0  0  0  0  1  0]\n",
      " [ 0  0  0  0  0  0  0  1  0]\n",
      " [ 0  0  0  0  0  0  0  1  0]\n",
      " [ 0  0  0  0  0  0  0  2  0]\n",
      " [ 0  0  0  0  0  0  0 45  0]\n",
      " [ 0  0  0  0  0  0  0  1  0]]\n",
      "Le job prédit pour la nouvelle synthèse est : Restaurant\n"
     ]
    },
    {
     "name": "stderr",
     "output_type": "stream",
     "text": [
      "D:\\anaconda\\lib\\site-packages\\sklearn\\linear_model\\logistic.py:432: FutureWarning: Default solver will be changed to 'lbfgs' in 0.22. Specify a solver to silence this warning.\n",
      "  FutureWarning)\n",
      "D:\\anaconda\\lib\\site-packages\\sklearn\\linear_model\\logistic.py:469: FutureWarning: Default multi_class will be changed to 'auto' in 0.22. Specify the multi_class option to silence this warning.\n",
      "  \"this warning.\", FutureWarning)\n",
      "D:\\anaconda\\lib\\site-packages\\sklearn\\metrics\\classification.py:1437: UndefinedMetricWarning: Precision and F-score are ill-defined and being set to 0.0 in labels with no predicted samples.\n",
      "  'precision', 'predicted', average, warn_for)\n"
     ]
    }
   ],
   "source": [
    "import pandas as pd\n",
    "from sklearn.model_selection import train_test_split\n",
    "from sklearn.feature_extraction.text import TfidfVectorizer\n",
    "from sklearn.linear_model import LogisticRegression\n",
    "from sklearn.metrics import accuracy_score, classification_report, confusion_matrix\n",
    "\n",
    "# Charger vos données ici avec les colonnes 'synthese' et 'job'\n",
    "\n",
    "# Sélectionner les caractéristiques (synthese) et la variable cible (job)\n",
    "X = pdf_data['synthese']\n",
    "y = pdf_data['lb_activite_etab']\n",
    "\n",
    "# Divisez les données en ensembles de formation et de test\n",
    "X_train, X_test, y_train, y_test = train_test_split(X, y, test_size=0.2, random_state=42)\n",
    "\n",
    "# Créez un vecteur TF-IDF pour les synthèses\n",
    "tfidf_vectorizer = TfidfVectorizer(max_features=1000)  # Vous pouvez ajuster le nombre de fonctionnalités\n",
    "X_train_tfidf = tfidf_vectorizer.fit_transform(X_train)\n",
    "X_test_tfidf = tfidf_vectorizer.transform(X_test)\n",
    "\n",
    "# Créez un modèle de régression logistique\n",
    "model = LogisticRegression(max_iter=1000)\n",
    "\n",
    "# Entraînez le modèle\n",
    "model.fit(X_train_tfidf, y_train)\n",
    "\n",
    "# Prédictions sur l'ensemble de test\n",
    "y_pred = model.predict(X_test_tfidf)\n",
    "\n",
    "# Évaluez la performance du modèle\n",
    "accuracy = accuracy_score(y_test, y_pred)\n",
    "print(f'Précision du modèle : {accuracy:.2f}')\n",
    "\n",
    "# Affichez d'autres métriques telles que le rapport de classification et la matrice de confusion\n",
    "print(classification_report(y_test, y_pred))\n",
    "print(confusion_matrix(y_test, y_pred))\n",
    "\n",
    "# Pour faire des prédictions sur de nouvelles synthèses textuelles :\n",
    "new_synthese = [\"Votre nouvelle synthèse textuelle ici.\"]\n",
    "new_synthese_tfidf = tfidf_vectorizer.transform(new_synthese)\n",
    "predicted_job = model.predict(new_synthese_tfidf)\n",
    "print(f\"Le job prédit pour la nouvelle synthèse est : {predicted_job[0]}\")\n"
   ]
  },
  {
   "cell_type": "code",
   "execution_count": 327,
   "metadata": {},
   "outputs": [
    {
     "name": "stdout",
     "output_type": "stream",
     "text": [
      "Précision du modèle : 0.61\n",
      "                   precision    recall  f1-score   support\n",
      "\n",
      "      A améliorer       0.38      0.13      0.19        23\n",
      "     Satisfaisant       0.64      0.89      0.74        47\n",
      "Très satisfaisant       0.62      0.47      0.53        17\n",
      "\n",
      "         accuracy                           0.61        87\n",
      "        macro avg       0.54      0.50      0.49        87\n",
      "     weighted avg       0.56      0.61      0.56        87\n",
      "\n",
      "[[ 3 17  3]\n",
      " [ 3 42  2]\n",
      " [ 2  7  8]]\n"
     ]
    }
   ],
   "source": [
    "import pandas as pd\n",
    "from sklearn.model_selection import train_test_split\n",
    "from sklearn.preprocessing import OneHotEncoder\n",
    "from sklearn.metrics import accuracy_score, classification_report, confusion_matrix\n",
    "from sklearn.linear_model import LogisticRegression\n",
    "\n",
    "# Sélection des caractéristiques et de la variable cible\n",
    "features = ['lb_commune', 'Year', 'lb_activite_etab', 'type_activite']\n",
    "target = 'synthese'\n",
    "\n",
    "X = pdf_data[features]\n",
    "y = pdf_data[target]\n",
    "\n",
    "# Encodage one-hot des caractéristiques catégorielles\n",
    "encoder = OneHotEncoder(sparse=False, drop='first')\n",
    "X_encoded = encoder.fit_transform(X.select_dtypes(include=['object']))\n",
    "\n",
    "# Divisez les données en ensembles de formation et de test\n",
    "X_train, X_test, y_train, y_test = train_test_split(X_encoded, y, test_size=0.2, random_state=42)\n",
    "\n",
    "# Créez un modèle de régression logistique multinomiale\n",
    "model = LogisticRegression(max_iter=1000, multi_class='multinomial', solver='lbfgs')\n",
    "\n",
    "# Entraînez le modèle\n",
    "model.fit(X_train, y_train)\n",
    "\n",
    "# Prédictions sur l'ensemble de test\n",
    "y_pred = model.predict(X_test)\n",
    "\n",
    "# Évaluez la performance du modèle\n",
    "accuracy = accuracy_score(y_test, y_pred)\n",
    "print(f'Précision du modèle : {accuracy:.2f}')\n",
    "\n",
    "# Affichez le rapport de classification et la matrice de confusion\n",
    "print(classification_report(y_test, y_pred))\n",
    "print(confusion_matrix(y_test, y_pred))\n"
   ]
  },
  {
   "cell_type": "code",
   "execution_count": 328,
   "metadata": {},
   "outputs": [
    {
     "name": "stdout",
     "output_type": "stream",
     "text": [
      "Précision du modèle : 0.62\n",
      "                   precision    recall  f1-score   support\n",
      "\n",
      "      A améliorer       0.60      0.13      0.21        23\n",
      "     Satisfaisant       0.63      0.94      0.75        47\n",
      "Très satisfaisant       0.58      0.41      0.48        17\n",
      "\n",
      "         accuracy                           0.62        87\n",
      "        macro avg       0.60      0.49      0.48        87\n",
      "     weighted avg       0.61      0.62      0.56        87\n",
      "\n",
      "[[ 3 17  3]\n",
      " [ 1 44  2]\n",
      " [ 1  9  7]]\n"
     ]
    }
   ],
   "source": [
    "import pandas as pd\n",
    "from sklearn.model_selection import train_test_split\n",
    "from sklearn.preprocessing import OneHotEncoder\n",
    "from sklearn.metrics import accuracy_score, classification_report, confusion_matrix\n",
    "from sklearn.linear_model import LogisticRegression\n",
    "\n",
    "# Sélection des caractéristiques et de la variable cible\n",
    "features = ['lb_commune', 'Year', 'lb_activite_etab', 'job']\n",
    "target = 'synthese'\n",
    "\n",
    "X = pdf_data[features]\n",
    "y = pdf_data[target]\n",
    "\n",
    "# Encodage one-hot des caractéristiques catégorielles\n",
    "encoder = OneHotEncoder(sparse=False, drop='first')\n",
    "X_encoded = encoder.fit_transform(X.select_dtypes(include=['object']))\n",
    "\n",
    "# Divisez les données en ensembles de formation et de test\n",
    "X_train, X_test, y_train, y_test = train_test_split(X_encoded, y, test_size=0.2, random_state=42)\n",
    "\n",
    "# Créez un modèle de régression logistique multinomiale\n",
    "model = LogisticRegression(max_iter=1000, multi_class='multinomial', solver='lbfgs')\n",
    "\n",
    "# Entraînez le modèle\n",
    "model.fit(X_train, y_train)\n",
    "\n",
    "# Prédictions sur l'ensemble de test\n",
    "y_pred = model.predict(X_test)\n",
    "\n",
    "# Évaluez la performance du modèle\n",
    "accuracy = accuracy_score(y_test, y_pred)\n",
    "print(f'Précision du modèle : {accuracy:.2f}')\n",
    "\n",
    "# Affichez le rapport de classification et la matrice de confusion\n",
    "print(classification_report(y_test, y_pred))\n",
    "print(confusion_matrix(y_test, y_pred))\n"
   ]
  },
  {
   "cell_type": "code",
   "execution_count": 329,
   "metadata": {},
   "outputs": [
    {
     "data": {
      "image/png": "[encoded data removed]",
      "text/plain": [
       "<Figure size 576x432 with 1 Axes>"
      ]
     },
     "metadata": {
      "needs_background": "light"
     },
     "output_type": "display_data"
    }
   ],
   "source": [
    "import matplotlib.pyplot as plt\n",
    "import seaborn as sns\n",
    "\n",
    "# Calculez la matrice de confusion\n",
    "confusion = confusion_matrix(y_test, y_pred)\n",
    "\n",
    "# Créez une figure\n",
    "plt.figure(figsize=(8, 6))\n",
    "\n",
    "# Utilisez Seaborn pour afficher la matrice de confusion sous forme de heatmap\n",
    "sns.heatmap(confusion, annot=True, fmt='d', cmap='Blues', cbar=False)\n",
    "\n",
    "# Ajoutez des étiquettes aux axes\n",
    "plt.xlabel('Prédictions')\n",
    "plt.ylabel('Vraies étiquettes')\n",
    "\n",
    "# Ajoutez des titres\n",
    "plt.title('Matrice de Confusion')\n",
    "\n",
    "# Affichez le graphique\n",
    "plt.show()\n"
   ]
  },
  {
   "cell_type": "code",
   "execution_count": 330,
   "metadata": {},
   "outputs": [
    {
     "name": "stderr",
     "output_type": "stream",
     "text": [
      "D:\\anaconda\\lib\\site-packages\\sklearn\\model_selection\\_split.py:657: Warning: The least populated class in y has only 1 members, which is too few. The minimum number of members in any class cannot be less than n_splits=5.\n",
      "  % (min_groups, self.n_splits)), Warning)\n"
     ]
    },
    {
     "data": {
      "image/png": "[encoded data removed]",
      "text/plain": [
       "<Figure size 576x432 with 1 Axes>"
      ]
     },
     "metadata": {
      "needs_background": "light"
     },
     "output_type": "display_data"
    }
   ],
   "source": [
    "from sklearn.model_selection import learning_curve\n",
    "\n",
    "# Calculez les courbes d'apprentissage\n",
    "train_sizes, train_scores, test_scores = learning_curve(model, X_train, y_train, cv=5)\n",
    "\n",
    "# Calculez la moyenne des scores d'apprentissage et de test\n",
    "train_scores_mean = np.mean(train_scores, axis=1)\n",
    "test_scores_mean = np.mean(test_scores, axis=1)\n",
    "\n",
    "# Tracez les courbes d'apprentissage\n",
    "plt.figure(figsize=(8, 6))\n",
    "plt.plot(train_sizes, train_scores_mean, label='Score d\\'apprentissage')\n",
    "plt.plot(train_sizes, test_scores_mean, label='Score de test')\n",
    "plt.xlabel('Taille de l\\'ensemble d\\'apprentissage')\n",
    "plt.ylabel('Score')\n",
    "plt.title('Courbe d\\'apprentissage')\n",
    "plt.legend()\n",
    "plt.show()\n"
   ]
  },
  {
   "cell_type": "code",
   "execution_count": 331,
   "metadata": {},
   "outputs": [
    {
     "data": {
      "image/png": "[encoded data removed]",
      "text/plain": [
       "<Figure size 720x432 with 1 Axes>"
      ]
     },
     "metadata": {
      "needs_background": "light"
     },
     "output_type": "display_data"
    }
   ],
   "source": [
    "# Exemple de graphique de barres pour la variable 'lb_activite_etab'\n",
    "plt.figure(figsize=(10, 6))\n",
    "sns.countplot(x='lb_activite_etab', hue='synthese', data=pdf_data)\n",
    "plt.xticks(rotation=90)\n",
    "plt.xlabel('Activité de l\\'établissement')\n",
    "plt.ylabel('Nombre d\\'échantillons')\n",
    "plt.title('Distribution des classes par activité de l\\'établissement')\n",
    "plt.show()\n"
   ]
  },
  {
   "cell_type": "code",
   "execution_count": 332,
   "metadata": {},
   "outputs": [
    {
     "data": {
      "image/png": "[encoded data removed]",
      "text/plain": [
       "<Figure size 720x432 with 1 Axes>"
      ]
     },
     "metadata": {
      "needs_background": "light"
     },
     "output_type": "display_data"
    }
   ],
   "source": [
    "import seaborn as sns\n",
    "import matplotlib.pyplot as plt\n",
    "\n",
    "# Exemple de graphique à barres empilées pour la variable 'job' en fonction de 'synthese'\n",
    "plt.figure(figsize=(10, 6))\n",
    "sns.countplot(x='job', hue='synthese', data=pdf_data)\n",
    "plt.xticks(rotation=90)\n",
    "plt.xlabel('Job')\n",
    "plt.ylabel('Nombre d\\'échantillons')\n",
    "plt.title('Distribution des classes synthese par job')\n",
    "plt.show()\n"
   ]
  },
  {
   "cell_type": "code",
   "execution_count": 333,
   "metadata": {},
   "outputs": [
    {
     "name": "stderr",
     "output_type": "stream",
     "text": [
      "D:\\anaconda\\lib\\site-packages\\sklearn\\metrics\\ranking.py:659: UndefinedMetricWarning: No positive samples in y_true, true positive value should be meaningless\n",
      "  UndefinedMetricWarning)\n"
     ]
    },
    {
     "data": {
      "image/png": "[encoded data removed]",
      "text/plain": [
       "<Figure size 720x432 with 1 Axes>"
      ]
     },
     "metadata": {
      "needs_background": "light"
     },
     "output_type": "display_data"
    }
   ],
   "source": [
    "from sklearn.metrics import roc_curve, auc\n",
    "\n",
    "# Liste des classes\n",
    "classes = model.classes_\n",
    "\n",
    "# Calculez la courbe ROC pour chaque classe\n",
    "fpr = dict()\n",
    "tpr = dict()\n",
    "roc_auc = dict()\n",
    "\n",
    "y_prob = model.predict_proba(X_test)\n",
    "\n",
    "for i, class_label in enumerate(classes):\n",
    "    fpr[i], tpr[i], _ = roc_curve(y_test == class_label, y_prob[:, i])\n",
    "    roc_auc[i] = auc(fpr[i], tpr[i])\n",
    "\n",
    "# Tracez les courbes ROC pour chaque classe\n",
    "plt.figure(figsize=(10, 6))\n",
    "for i, class_label in enumerate(classes):\n",
    "    plt.plot(fpr[i], tpr[i], lw=2, label=f'ROC curve for class {class_label} (AUC = {roc_auc[i]:.2f})')\n",
    "\n",
    "plt.plot([0, 1], [0, 1], 'k--', lw=2)\n",
    "plt.xlim([0.0, 1.0])\n",
    "plt.ylim([0.0, 1.05])\n",
    "plt.xlabel('Taux de Faux Positifs (FPR)')\n",
    "plt.ylabel('Taux de Vrais Positifs (TPR)')\n",
    "plt.title('Courbe ROC pour la classification multiclasse')\n",
    "plt.legend(loc='lower right')\n",
    "plt.show()\n"
   ]
  },
  {
   "cell_type": "code",
   "execution_count": 338,
   "metadata": {},
   "outputs": [
    {
     "name": "stdout",
     "output_type": "stream",
     "text": [
      "Précision du modèle : 0.61\n",
      "                   precision    recall  f1-score   support\n",
      "\n",
      "      A améliorer       0.50      0.09      0.15        23\n",
      "     Satisfaisant       0.62      0.94      0.75        47\n",
      "Très satisfaisant       0.58      0.41      0.48        17\n",
      "\n",
      "         accuracy                           0.61        87\n",
      "        macro avg       0.57      0.48      0.46        87\n",
      "     weighted avg       0.58      0.61      0.54        87\n",
      "\n",
      "[[ 2 18  3]\n",
      " [ 1 44  2]\n",
      " [ 1  9  7]]\n"
     ]
    }
   ],
   "source": [
    "import pandas as pd\n",
    "from sklearn.model_selection import train_test_split\n",
    "from sklearn.preprocessing import OneHotEncoder\n",
    "from sklearn.metrics import accuracy_score, classification_report, confusion_matrix\n",
    "from sklearn.linear_model import LogisticRegression\n",
    "\n",
    "# Sélection des caractéristiques et de la variable cible\n",
    "features = ['lb_commune', 'Year']\n",
    "target = 'synthese'\n",
    "\n",
    "X = pdf_data[features]\n",
    "y = pdf_data[target]\n",
    "\n",
    "# Encodage one-hot des caractéristiques catégorielles\n",
    "encoder = OneHotEncoder(sparse=False, drop='first')\n",
    "X_encoded = encoder.fit_transform(X.select_dtypes(include=['object']))\n",
    "\n",
    "# Divisez les données en ensembles de formation et de test\n",
    "X_train, X_test, y_train, y_test = train_test_split(X_encoded, y, test_size=0.2, random_state=42)\n",
    "\n",
    "# Créez un modèle de régression logistique multinomiale\n",
    "model = LogisticRegression(max_iter=1000, multi_class='multinomial', solver='lbfgs')\n",
    "\n",
    "# Entraînez le modèle\n",
    "model.fit(X_train, y_train)\n",
    "\n",
    "# Prédictions sur l'ensemble de test\n",
    "y_pred = model.predict(X_test)\n",
    "\n",
    "# Évaluez la performance du modèle\n",
    "accuracy = accuracy_score(y_test, y_pred)\n",
    "print(f'Précision du modèle : {accuracy:.2f}')\n",
    "\n",
    "# Affichez le rapport de classification et la matrice de confusion\n",
    "print(classification_report(y_test, y_pred))\n",
    "print(confusion_matrix(y_test, y_pred))\n"
   ]
  },
  {
   "cell_type": "code",
   "execution_count": 339,
   "metadata": {
    "scrolled": true
   },
   "outputs": [
    {
     "name": "stdout",
     "output_type": "stream",
     "text": [
      "   Year                     adresse cd_postal                          job             lb_activite_etab   lb_commune                                   lb_etab        siret           synthese                type_activite\n",
      "0  2023       24 PL GENERAL LECLERC     80220                   Restaurant                   Restaurant     GAMACHES                SARL AUBERGE DU DOUBLE SIX   3,0121E+13       Satisfaisant                   Restaurant\n",
      "1  2023           286 RUE DU CENTRE     74260                   Restaurant                   Restaurant     LES GETS                MONSIEUR PHILIPPE MARIOTTE  3,10849E+13       Satisfaisant                   Restaurant\n",
      "2  2022  36 RUE EUGENE EICHENBERGER     92800        Alimentation générale        Alimentation générale      PUTEAUX              NATURALIA (NATURALIA FRANCE)  3,02475E+13       Satisfaisant        Alimentation générale\n",
      "3  2023                      RD 403     14460  Rayon boucherie-charcuterie  Rayon boucherie-charcuterie  COLOMBELLES        SUPER-U (COLOMBELLES DISTRIBUTION)  3,01224E+13  Très satisfaisant  Rayon boucherie-charcuterie\n",
      "4  2023        4, PLACE DU MOUSTIER     92210        Alimentation générale        Alimentation générale  SAINT CLOUD  FRANPRIX (SOC DISTRIBUTION SODISCO SARL)  3,34271E+13        A améliorer        Alimentation générale\n"
     ]
    }
   ],
   "source": [
    "# Exporter le contenu de PDF_FINAL au format Excel\n",
    "FINAL_FILENAME = 'data_final.xls'\n",
    "pdf_data.to_excel(FINAL_FILENAME, index=False)\n",
    "\n",
    "# Ouvrir le fichier Excel exporté et vérifier son contenu\n",
    "import pandas as pd\n",
    "df_exported = pd.read_excel(FINAL_FILENAME)\n",
    "print(pdf_data.head())"
   ]
  }
 ],
 "metadata": {
  "kernelspec": {
   "display_name": "Python 3",
   "language": "python",
   "name": "python3"
  },
  "language_info": {
   "codemirror_mode": {
    "name": "ipython",
    "version": 3
   },
   "file_extension": ".py",
   "mimetype": "text/x-python",
   "name": "python",
   "nbconvert_exporter": "python",
   "pygments_lexer": "ipython3",
   "version": "3.7.4"
  }
 },
 "nbformat": 4,
 "nbformat_minor": 2
}
